{
 "cells": [
  {
   "cell_type": "markdown",
   "metadata": {},
   "source": [
    "## Библиотека UDPipe\n",
    "Для работы UDPipe надо поставить библиотеку  \n",
    "`pip install ufal.udpipe`  \n",
    "Помимо этого, нам потребуются языковые синтаксические модели, взятые отсюда \n",
    "https://lindat.mff.cuni.cz/repository/xmlui/handle/11234/1-3131  \n",
    "Более конкретно, я буду использовать вот этот файл положив его в каталог data:  \n",
    "https://lindat.mff.cuni.cz/repository/xmlui/bitstream/handle/11234/1-3131/russian-syntagrus-ud-2.5-191206.udpipe?sequence=70&isAllowed=y"
   ]
  },
  {
   "cell_type": "code",
   "execution_count": null,
   "metadata": {},
   "outputs": [],
   "source": [
    "!pip install ufal.udpipe\n",
    "!pip install matplotlib\n",
    "!pip install tqdm\n",
    "!pip install beautifulsoup4\n",
    "!pip install spacy"
   ]
  },
  {
   "cell_type": "code",
   "execution_count": 60,
   "metadata": {},
   "outputs": [],
   "source": [
    "# Подключаем синтаксической анализатор и его части.\n",
    "import ufal.udpipe\n",
    "from ufal.udpipe import Model, Pipeline, ProcessingError\n",
    "\n",
    "# Для отрисовки деревьев нам потребуются вот эти библиотеки.\n",
    "import matplotlib.pyplot as plt\n",
    "\n",
    "import requests\n",
    "from bs4 import BeautifulSoup as bs\n",
    "\n",
    "from collections import defaultdict\n",
    "from tqdm.auto import tqdm\n",
    "import random\n"
   ]
  },
  {
   "cell_type": "markdown",
   "metadata": {},
   "source": [
    "Загрузим уже обученную модель. "
   ]
  },
  {
   "cell_type": "code",
   "execution_count": 61,
   "metadata": {},
   "outputs": [],
   "source": [
    "model = Model.load(\"./data/russian-syntagrus-ud-2.5-191206.udpipe\")"
   ]
  },
  {
   "cell_type": "markdown",
   "metadata": {},
   "source": [
    "В состав UDPipe входят собственный токенизатор, морфология и система снятия омонимии. Создадим соответствующие объекты, а также объект, которые нам пригодятся при синтаксическом анализе."
   ]
  },
  {
   "cell_type": "code",
   "execution_count": 62,
   "metadata": {},
   "outputs": [],
   "source": [
    "# Токенизатор со снятием омонимии.\n",
    "tokenizer = model.newTokenizer(model.DEFAULT)\n",
    "# Объект для отображения результатов разбора.\n",
    "conlluOutput = ufal.udpipe.OutputFormat.newOutputFormat(\"conllu\")\n",
    "# Объект предложения, в которое будет осуществляться разбор.\n",
    "sentence = ufal.udpipe.Sentence()\n",
    "# Объект для ошибок, возникающих в ходе разбора.\n",
    "error = ufal.udpipe.ProcessingError()"
   ]
  },
  {
   "cell_type": "markdown",
   "metadata": {},
   "source": [
    "Теперь нам необходимо передать токенизатору текст, который мы собираемся разбирать, при помощи функции `setText`. "
   ]
  },
  {
   "cell_type": "code",
   "execution_count": 63,
   "metadata": {},
   "outputs": [],
   "source": [
    "tokenizer.setText(\"Мама мыла раму. При этом Рама краснел со сраму. \");"
   ]
  },
  {
   "cell_type": "markdown",
   "metadata": {},
   "source": [
    "Выбирать очередное предложение можно при помощи функции `nextSentence`. Эта функция возвращает `True`, если предложение извлеклось, и `False`, если предложений в тексте больше нет.\n",
    "\n",
    "Далее предложение передается на морфологическую разметку со снятием омонимии (тэггинг) и синтаксический анализ (парсинг).\n",
    "\n",
    "Результаты разбора можно отображать в разных форматах, но мы будем использовать формат conllu."
   ]
  },
  {
   "cell_type": "code",
   "execution_count": 64,
   "metadata": {},
   "outputs": [
    {
     "name": "stdout",
     "output_type": "stream",
     "text": [
      "# newdoc\n",
      "# newpar\n",
      "# sent_id = 1\n",
      "# text = Мама мыла раму.\n",
      "1\tМама\tмама\tNOUN\t_\tAnimacy=Anim|Case=Nom|Gender=Fem|Number=Sing\t2\tnsubj\t_\t_\n",
      "2\tмыла\tмыть\tVERB\t_\tAspect=Imp|Gender=Fem|Mood=Ind|Number=Sing|Tense=Past|VerbForm=Fin|Voice=Act\t0\troot\t_\t_\n",
      "3\tраму\tрама\tNOUN\t_\tAnimacy=Anim|Case=Acc|Gender=Fem|Number=Sing\t2\tobj\t_\tSpaceAfter=No\n",
      "4\t.\t.\tPUNCT\t_\t_\t2\tpunct\t_\t_\n",
      "\n",
      "\n"
     ]
    }
   ],
   "source": [
    "# Токенизация.\n",
    "tokenizer.nextSentence(sentence, error)\n",
    "# Морфологичекий анализ со снятием омонимии.\n",
    "model.tag(sentence, model.DEFAULT)\n",
    "# Синтаксический анализ.\n",
    "model.parse(sentence, model.DEFAULT)\n",
    "# Отображение результатов.\n",
    "print(conlluOutput.writeSentence(sentence))"
   ]
  },
  {
   "cell_type": "markdown",
   "metadata": {},
   "source": [
    "Выберем следующее предложение и проведем его анализ."
   ]
  },
  {
   "cell_type": "code",
   "execution_count": 65,
   "metadata": {},
   "outputs": [
    {
     "name": "stdout",
     "output_type": "stream",
     "text": [
      "# sent_id = 2\n",
      "# text = При этом Рама краснел со сраму.\n",
      "1\tПри\tпри\tADP\t_\t_\t2\tcase\t_\t_\n",
      "2\tэтом\tэто\tPRON\t_\tAnimacy=Inan|Case=Loc|Gender=Neut|Number=Sing\t4\tobl\t_\t_\n",
      "3\tРама\tрама\tPROPN\t_\tAnimacy=Anim|Case=Nom|Gender=Masc|Number=Sing\t4\tnsubj\t_\t_\n",
      "4\tкраснел\tкраснеть\tVERB\t_\tAspect=Imp|Gender=Masc|Mood=Ind|Number=Sing|Tense=Past|VerbForm=Fin|Voice=Act\t0\troot\t_\t_\n",
      "5\tсо\tс\tADP\t_\t_\t6\tcase\t_\t_\n",
      "6\tсраму\tсрам\tNOUN\t_\tAnimacy=Inan|Case=Par|Gender=Masc|Number=Sing\t4\tobl\t_\tSpaceAfter=No\n",
      "7\t.\t.\tPUNCT\t_\t_\t4\tpunct\t_\t_\n",
      "\n",
      "\n"
     ]
    }
   ],
   "source": [
    "tokenizer.nextSentence(sentence, error)\n",
    "\n",
    "model.tag(sentence, model.DEFAULT)\n",
    "model.parse(sentence, model.DEFAULT)\n",
    "\n",
    "print(conlluOutput.writeSentence(sentence))"
   ]
  },
  {
   "cell_type": "markdown",
   "metadata": {},
   "source": [
    "Объект `Sentence` содержит в себе свойство `words`, являющееся списком слов. Каждое слово включает в себя, среди прочего, следующие свойства:\n",
    "- lemma - начальная форма слова,\n",
    "- form - токен, \n",
    "- head - номер родительского элемента в списке слов,\n",
    "- deprel - название отношения,\n",
    "- upostag - часть речи,\n",
    "- feats - грамматические параметры,\n",
    "- misc - дополнительные параметры."
   ]
  },
  {
   "cell_type": "code",
   "execution_count": 66,
   "metadata": {},
   "outputs": [
    {
     "name": "stdout",
     "output_type": "stream",
     "text": [
      "0 -> -1 <root> [ <root> ] <root> <root>  \n",
      "1 -> 2 при [ При ] ADP  case \n",
      "2 -> 4 это [ этом ] PRON Animacy=Inan|Case=Loc|Gender=Neut|Number=Sing obl \n",
      "3 -> 4 рама [ Рама ] PROPN Animacy=Anim|Case=Nom|Gender=Masc|Number=Sing nsubj \n",
      "4 -> 0 краснеть [ краснел ] VERB Aspect=Imp|Gender=Masc|Mood=Ind|Number=Sing|Tense=Past|VerbForm=Fin|Voice=Act root \n",
      "5 -> 6 с [ со ] ADP  case \n",
      "6 -> 4 срам [ сраму ] NOUN Animacy=Inan|Case=Par|Gender=Masc|Number=Sing obl SpaceAfter=No\n",
      "7 -> 4 . [ . ] PUNCT  punct \n"
     ]
    }
   ],
   "source": [
    "for i, word in enumerate(sentence.words):\n",
    "    print(i, \"->\", word.head, word.lemma, \"[\", word.form, \"]\", word.upostag, word.feats, word.deprel, word.misc)"
   ]
  },
  {
   "cell_type": "markdown",
   "metadata": {},
   "source": [
    "Напишем функцию, которая будет выводить предложение в формате дерева. Все потомки следуют за родителем, перед потомком относительно родителя дается отступ."
   ]
  },
  {
   "cell_type": "code",
   "execution_count": 67,
   "metadata": {},
   "outputs": [
    {
     "name": "stdout",
     "output_type": "stream",
     "text": [
      " 4 краснел\n",
      "     2 этом\n",
      "         1 При\n",
      "     3 Рама\n",
      "     6 сраму\n",
      "         5 со\n",
      "     7 .\n"
     ]
    }
   ],
   "source": [
    "def print_sent(sentence, space=\"\", head=0):\n",
    "    for i, word in enumerate(sentence.words):\n",
    "        if word.head == head:\n",
    "            print(space, i, word.form)\n",
    "            print_sent(sentence, space+\"    \", i)\n",
    "\n",
    "print_sent(sentence)"
   ]
  },
  {
   "cell_type": "markdown",
   "metadata": {},
   "source": [
    "Давайте возьмем новость и выделим из нее все сочетания \"существительное + существительное в родительном падеже\". Такие сочетания интересны тем, что могут претендовать на роль терминов."
   ]
  },
  {
   "cell_type": "code",
   "execution_count": 68,
   "metadata": {},
   "outputs": [
    {
     "data": {
      "text/plain": [
       "'Анатолий Жданов / «Коммерсантъ»\\nУченые из Университета Квинсленда и Немецкого центра нейродегенеративных заболеваний обнаружили неожиданный эффект от употребления яблок. Результаты исследования появились в научном журнале Stem Cell Reports.\\nОпыты проводились на мышах. Специалисты культивировали стволовые клетки мозга взрослых мышей и добавляли в них содержащиеся в яблоках фитонутриенты. Исследование показало, что высокая концентрация фитонутриентов способствует образованию новых нейронов.\\nПо словам ученых, определенные фитонутриенты положительно влияют на работу органов, в том числе мозга. Выяснилось, что они оказывают на организм тот же эффект, что и физическая активность, которая также стимулирует нейрогенез.\\nРанее ученые из Технологического университета австрийского Граца выяснили, что большинство людей неправильно едят яблоки. Исследователи утверждают, что до 90 процентов полезных веществ сосредоточены в сердцевине этого фрукта, и поэтому яблоко желательно съедать вместе с огрызком.'"
      ]
     },
     "execution_count": 68,
     "metadata": {},
     "output_type": "execute_result"
    }
   ],
   "source": [
    "# Загружаем новость и получаем её текст.\n",
    "page = requests.get('https://lenta.ru/news/2021/02/27/apple_effect/')\n",
    "souped = bs(page.text)\n",
    "text = '\\n'.join([p.get_text() for p in souped.find_all(\"div\", attrs={'class': 'topic-body'})[0](\"p\")])\n",
    "text"
   ]
  },
  {
   "cell_type": "code",
   "execution_count": 69,
   "metadata": {},
   "outputs": [],
   "source": [
    "def find_child_Ng(sentence, parent):\n",
    "    \"\"\" Функция поиска всех потомков вершины с номером parent, являющихся\n",
    "    существительными в родительном падеже.\n",
    "    \"\"\"\n",
    "    children = []\n",
    "    for i, word in enumerate(sentence.words):\n",
    "        if word.head == parent and word.upostag == \"NOUN\" and \"Case=Gen\" in word.feats:\n",
    "            children.append(i)\n",
    "    return children\n",
    "\n",
    "def find_NNg(sentence, combinations):\n",
    "    \"\"\" Функция поиска сочетаний \"существительное + существительное в родительном падеже\".\n",
    "    \"\"\"\n",
    "    for i, word in enumerate(sentence.words):\n",
    "        if word.upostag == \"NOUN\":\n",
    "            children = find_child_Ng(sentence, i)\n",
    "            if children != []:\n",
    "                #print(word.lemma, [sentence.words[k].form for k in children])\n",
    "                for child in children:\n",
    "                    combinations[word.lemma][sentence.words[child].form] += 1\n"
   ]
  },
  {
   "cell_type": "markdown",
   "metadata": {},
   "source": [
    "Проанализируем все предложения текста и выделим сочетания."
   ]
  },
  {
   "cell_type": "code",
   "execution_count": 70,
   "metadata": {},
   "outputs": [
    {
     "name": "stdout",
     "output_type": "stream",
     "text": [
      "defaultdict(<function <lambda> at 0x1247dfec0>,\n",
      "            {'большинство': defaultdict(<class 'int'>, {'людей': 1}),\n",
      "             'клетка': defaultdict(<class 'int'>, {'мозга': 1}),\n",
      "             'концентрация': defaultdict(<class 'int'>, {'фитонутриентов': 1}),\n",
      "             'мозг': defaultdict(<class 'int'>, {'мышей': 1}),\n",
      "             'образование': defaultdict(<class 'int'>, {'нейронов': 1}),\n",
      "             'процент': defaultdict(<class 'int'>, {'веществ': 1}),\n",
      "             'работа': defaultdict(<class 'int'>, {'органов': 1, 'мозга': 1}),\n",
      "             'результат': defaultdict(<class 'int'>, {'исследования': 1}),\n",
      "             'сердцевина': defaultdict(<class 'int'>, {'фрукта': 1}),\n",
      "             'слово': defaultdict(<class 'int'>, {'ученых': 1}),\n",
      "             'употребление': defaultdict(<class 'int'>, {'яблок': 1}),\n",
      "             'ученый': defaultdict(<class 'int'>, {'университета': 1}),\n",
      "             'центр': defaultdict(<class 'int'>, {'заболеваний': 1}),\n",
      "             'эффект': defaultdict(<class 'int'>, {'употребления': 1})})\n"
     ]
    }
   ],
   "source": [
    "from pprint import pprint\n",
    "tokenizer.setText(text) # Установить текст.\n",
    "\n",
    "combinations = defaultdict(lambda:defaultdict(int))\n",
    "\n",
    "while tokenizer.nextSentence(sentence, error): # Полчаем следующее предложение.\n",
    "    model.tag(sentence, model.DEFAULT) # Токенизация.\n",
    "    model.parse(sentence, model.DEFAULT) # Синтаксический анализ.\n",
    "    find_NNg(sentence, combinations) # Поиск сочетаний.\n",
    "    \n",
    "pprint(combinations)"
   ]
  },
  {
   "cell_type": "markdown",
   "metadata": {},
   "source": [
    "Пусть к нам в руки попал фрагмент новостей с Ленты.ру за 2018 год. Посмотрим какие сочетания можно извлечь из него."
   ]
  },
  {
   "cell_type": "code",
   "execution_count": 74,
   "metadata": {},
   "outputs": [],
   "source": [
    "with open(\"./data/lenta2018.txt\", encoding=\"utf-8\") as news_file: # Файл с новостями.\n",
    "    text_news = [n.split(\"-----\\n\")[1] for n in news_file.read().split(\"=====\\n\")[1:]]\n",
    "    "
   ]
  },
  {
   "cell_type": "code",
   "execution_count": 75,
   "metadata": {},
   "outputs": [
    {
     "data": {
      "text/plain": [
       "'Пользователи Reddit выразили симпатию российским гопникам. Посетители ресурса оценили фотографию с молодыми людьми, присевшими, как львы-стражи, на корточки на опорные столбы ворот. Юзеры вывели снимок в топ ресурса.Разместивший фото пользователь с ником GAZAYOUTH93X назвал композицию «Дмитрий и Анатолий: привратники и стражи Славатара».«Молитесь, чтобы вам удалось пройти через адидассассинов!» — шутит joekillsshit, намекая на сюжет игры Assassin’s Creed.Пользователи иронизируют, что рады, наконец, увидеть, как выглядят «древние славяне» из города Славатар.Материалы по теме00:05 — 21 января 2017«Пацаны вообще ребята»Как русские гопники покорили интернет и научили Запад сидеть на кортахОднажды повстречавшиеся с гопниками из России комментаторы отмечают их крутой нрав и просят посоветовать, как защититься от них. «Каждый раз, когда я пытался пройти мимо них, я в считанные секунды становился недееспособным, потому что они пинали меня до смерти, крича \"CYKA *** !\" снова и снова», — пишет ALoyalRenegade.Знатоки культуры обитателей российских дворов также продемонстрировали знание характерного жаргона, некоторые матерились по-русски, используя латиницу.Культура русских гопников обрела популярность в сети несколько лет назад. Западная молодежь показывает знание русского мата, а также записывает ролики, в которых подражает стилю гопников, их поведению, в частности, демонстрирует умение сидеть на корточках.В январе один из самых популярных YouTube-блогеров PewDiePie также показал владение русским матом, прокомментировав таким образом новости.\\n'"
      ]
     },
     "execution_count": 75,
     "metadata": {},
     "output_type": "execute_result"
    }
   ],
   "source": [
    "# Проверим, что новости зугрузились.\n",
    "text_news[0]"
   ]
  },
  {
   "cell_type": "code",
   "execution_count": 76,
   "metadata": {},
   "outputs": [],
   "source": [
    "text_news = text_news"
   ]
  },
  {
   "cell_type": "code",
   "execution_count": 77,
   "metadata": {},
   "outputs": [
    {
     "name": "stderr",
     "output_type": "stream",
     "text": [
      "100%|███████████████████████████████████████████████████████████████████████████████████████████████████████████████████████████████████████████████████████████████████████████████████████████████████████████| 1707/1707 [04:16<00:00,  6.66it/s]\n"
     ]
    }
   ],
   "source": [
    "combinations = defaultdict(lambda:defaultdict(int))\n",
    "\n",
    "for text in tqdm(text_news):\n",
    "    tokenizer.setText(text) # Установить текст.\n",
    "    while tokenizer.nextSentence(sentence, error): # Полчаем следующее предложение.\n",
    "        model.tag(sentence, model.DEFAULT) # Токенизация.\n",
    "        model.parse(sentence, model.DEFAULT) # Синтаксический анализ.\n",
    "        find_NNg(sentence, combinations) # Поиск сочетаний.\n"
   ]
  },
  {
   "cell_type": "code",
   "execution_count": 78,
   "metadata": {},
   "outputs": [
    {
     "name": "stdout",
     "output_type": "stream",
     "text": [
      "сентябрь года 39\n",
      "глава государства 56\n",
      "тысяча долларов 39\n",
      "тысяча рублей 54\n",
      "тысяча человек 33\n",
      "статья УК 51\n",
      "лишение свободы 31\n",
      "декабрь года 86\n",
      "октябрь года 37\n",
      "член экипажа 52\n",
      "миллион долларов 64\n",
      "миллион рублей 59\n",
      "нарушение правил 65\n",
      "миллиард долларов 42\n",
      "рубль миллиона 37\n",
      "ноябрь года 47\n",
      "деятельность террористов 32\n",
      "примечание «Ленты.ру» 47\n",
      "решение суда 37\n",
      "январь года 57\n",
      "министр обороны 31\n",
      "конец января 42\n",
      "конец года 58\n",
      "начало года 32\n",
      "февраль года 41\n",
      "пассажир членов 35\n",
      "доллар миллиарда 48\n",
      "церемония открытия 35\n"
     ]
    }
   ],
   "source": [
    "for parent, childs in combinations.items():\n",
    "    for child, freq in childs.items():\n",
    "        if freq > 30:\n",
    "            print(parent, child, freq)"
   ]
  },
  {
   "cell_type": "code",
   "execution_count": null,
   "metadata": {},
   "outputs": [],
   "source": []
  },
  {
   "cell_type": "markdown",
   "metadata": {},
   "source": [
    "При анализе текстов существует задача оценки тональности текста. Тональность текста определяет какого роде слова содержатся в тексте - негативные или позитивные. Например, если у нас имеется отзыв на какой-то товар, услугу или организацию, мы можем определить, положительный это отзыв или отрицательный. Для оценки тональности отзыва используют, среди прочего, словари оценочной лексики.\n",
    "\n",
    "Один отзыв может содержать как критику, так и похвалу, в зависимости от того, что в нем рассматривается (Прекрасное обслуживание, но пироженые были несвежими). Код ниже использует словарь оценочной лексики для того, чтобы понять, какие глаголы сочетаются чаще с отрицательно окрашенными словами, а какие - с положительными."
   ]
  },
  {
   "cell_type": "code",
   "execution_count": 84,
   "metadata": {},
   "outputs": [],
   "source": [
    "# Загружаем словарь оценочной лексики.\n",
    "with open(\"./data/rusentilex_2017.txt\", encoding=\"utf-8\") as senti_file: \n",
    "    for i in range(18): # Пропускаем заголовок файла.\n",
    "        _ = senti_file.readline()\n",
    "        \n",
    "    senti_words = {line.split(\", \")[0]: line.split(\", \")[3] for line in senti_file.readlines()}"
   ]
  },
  {
   "cell_type": "code",
   "execution_count": 85,
   "metadata": {},
   "outputs": [
    {
     "data": {
      "text/plain": [
       "[('аборт', 'negative'),\n",
       " ('абортивный', 'negative'),\n",
       " ('абракадабра', 'negative'),\n",
       " ('абсурд', 'negative'),\n",
       " ('абсурдность', 'negative'),\n",
       " ('абсурдный', 'negative'),\n",
       " ('авантюра', 'negative'),\n",
       " ('авантюризм', 'negative'),\n",
       " ('авантюрист', 'negative'),\n",
       " ('авантюристический', 'negative')]"
      ]
     },
     "execution_count": 85,
     "metadata": {},
     "output_type": "execute_result"
    }
   ],
   "source": [
    "# Посмотрим на первые 10 слов словаря.\n",
    "list(senti_words.items())[:10]"
   ]
  },
  {
   "cell_type": "code",
   "execution_count": 86,
   "metadata": {},
   "outputs": [],
   "source": [
    "def find_childs(sentence, parent):\n",
    "    \"\"\" Функция для выделения потомков вершины с номером parent из предложения sentence в формате CONLLU.\n",
    "    \"\"\"\n",
    "    children = []\n",
    "    for i, word in enumerate(sentence.words):\n",
    "        if word.head == parent:\n",
    "            children.append(i)\n",
    "    return children\n",
    "\n",
    "def find_sentiments(sentence, senti_words, sentiments):\n",
    "    \"\"\" Ищет слова оценочной лексики senti_words в предложении sentence.\n",
    "        Найденные пары возвращает в список sentiments.\n",
    "    \"\"\"\n",
    "    for i, word in enumerate(sentence.words):\n",
    "        children = find_childs(sentence, i)\n",
    "        for child in children:\n",
    "            if sentence.words[child].lemma in senti_words.keys():\n",
    "                if word.lemma not in sentiments.keys():\n",
    "                    sentiments[word.lemma] = defaultdict(int)\n",
    "                sentiments[word.lemma][senti_words[sentence.words[child].lemma]] += 1\n"
   ]
  },
  {
   "cell_type": "code",
   "execution_count": null,
   "metadata": {},
   "outputs": [],
   "source": [
    "sentiments = {}\n",
    "\n",
    "for sent_text in tqdm(text_news):\n",
    "    tokenizer.setText(sent_text)\n",
    "    while tokenizer.nextSentence(sentence, error):\n",
    "        model.tag(sentence, model.DEFAULT)\n",
    "        model.parse(sentence, model.DEFAULT)\n",
    "        find_sentiments(sentence, senti_words, sentiments)\n"
   ]
  },
  {
   "cell_type": "code",
   "execution_count": 83,
   "metadata": {},
   "outputs": [
    {
     "data": {
      "text/plain": [
       "([('получить',\n",
       "   defaultdict(int,\n",
       "               {'negative': 56,\n",
       "                'positive': 33,\n",
       "                'neutral': 3,\n",
       "                'positive/negative': 3})),\n",
       "  ('стать',\n",
       "   defaultdict(int,\n",
       "               {'negative': 79,\n",
       "                'positive': 59,\n",
       "                'neutral': 32,\n",
       "                'positive/negative': 6})),\n",
       "  ('признать',\n",
       "   defaultdict(int,\n",
       "               {'negative': 66,\n",
       "                'positive/negative': 2,\n",
       "                'positive': 10,\n",
       "                'neutral': 3})),\n",
       "  ('мочь',\n",
       "   defaultdict(int,\n",
       "               {'negative': 76,\n",
       "                'positive': 51,\n",
       "                'positive/negative': 7,\n",
       "                'neutral': 16})),\n",
       "  ('дело', defaultdict(int, {'negative': 144, 'neutral': 2, 'positive': 3})),\n",
       "  ('произойти',\n",
       "   defaultdict(int,\n",
       "               {'negative': 82,\n",
       "                'neutral': 5,\n",
       "                'positive/negative': 3,\n",
       "                'positive': 4})),\n",
       "  ('группировка',\n",
       "   defaultdict(int, {'negative': 54, 'neutral': 4, 'positive': 1})),\n",
       "  ('нанести',\n",
       "   defaultdict(int, {'negative': 54, 'neutral': 1, 'positive': 0}))],\n",
       " '\\n----\\n',\n",
       " [('обратить',\n",
       "   defaultdict(int, {'positive': 79, 'negative': 3, 'neutral': 1})),\n",
       "  ('стать',\n",
       "   defaultdict(int,\n",
       "               {'negative': 79,\n",
       "                'positive': 59,\n",
       "                'neutral': 32,\n",
       "                'positive/negative': 6})),\n",
       "  ('новость', defaultdict(int, {'negative': 3, 'positive': 73, 'neutral': 8})),\n",
       "  ('мочь',\n",
       "   defaultdict(int,\n",
       "               {'negative': 76,\n",
       "                'positive': 51,\n",
       "                'positive/negative': 7,\n",
       "                'neutral': 16})),\n",
       "  ('принять',\n",
       "   defaultdict(int,\n",
       "               {'negative': 8,\n",
       "                'positive': 85,\n",
       "                'neutral': 36,\n",
       "                'positive/negative': 1})),\n",
       "  ('с', defaultdict(int, {'positive': 80, 'negative': 0}))])"
      ]
     },
     "execution_count": 83,
     "metadata": {},
     "output_type": "execute_result"
    }
   ],
   "source": [
    "[(senti, vals) for senti,vals in sentiments.items() if vals['negative']>50 and senti!='<root>'], '\\n----\\n',\\\n",
    "[(senti, vals) for senti,vals in sentiments.items() if vals['positive']>50 and senti!='<root>']"
   ]
  },
  {
   "cell_type": "markdown",
   "metadata": {},
   "source": [
    "Посмотрим какие слова чаще встречаются с о словами негатитвной окраски, а какие - с позитивными."
   ]
  },
  {
   "cell_type": "code",
   "execution_count": null,
   "metadata": {},
   "outputs": [],
   "source": []
  },
  {
   "cell_type": "markdown",
   "metadata": {},
   "source": [
    "## Синтаксический анализатор SpaCy\n",
    "\n",
    "Ещё одним синтаксическим анализатором является Spacy. Здесь мы работаем с версией 3, которая вышла в марте 2021 года. Библиотеки можно поставить при помощи pip, а **языковые модели** для нее можно взять [здесь](https://github.com/buriy/spacy-ru) (хотя проще скачать модель в wheel-формате и тоже поставить при помощи pip)."
   ]
  },
  {
   "cell_type": "code",
   "execution_count": 93,
   "metadata": {},
   "outputs": [],
   "source": [
    "# Импортируемм нужные библиотеки.\n",
    "import spacy\n",
    "from spacy import displacy"
   ]
  },
  {
   "cell_type": "code",
   "execution_count": null,
   "metadata": {},
   "outputs": [],
   "source": [
    "!python -m spacy download ru_core_news_sm"
   ]
  },
  {
   "cell_type": "code",
   "execution_count": 95,
   "metadata": {},
   "outputs": [],
   "source": [
    "# Загружаем языковую модель.\n",
    "nlp = spacy.load(\"ru_core_news_sm\")"
   ]
  },
  {
   "cell_type": "markdown",
   "metadata": {},
   "source": [
    "Дерево в Spacy представляется именно в виде дерева зависимостей: как совокупность вершин и связей между ними. Каждая вершина соответствует слову из предложения, у слова есть лемма (поле `lemma_`) и токен (поле `text`)."
   ]
  },
  {
   "cell_type": "code",
   "execution_count": 96,
   "metadata": {},
   "outputs": [
    {
     "name": "stdout",
     "output_type": "stream",
     "text": [
      "['\"пользователь\" - \"Пользователи\"', '\"reddit\" - \"Reddit\"', '\"выразить\" - \"выразили\"', '\"симпатия\" - \"симпатию\"', '\"российский\" - \"российским\"', '\"гопник\" - \"гопникам\"', '\".\" - \".\"']\n",
      "['\"посетитель\" - \"Посетители\"', '\"ресурс\" - \"ресурса\"', '\"оценить\" - \"оценили\"', '\"фотография\" - \"фотографию\"', '\"с\" - \"с\"', '\"молодой\" - \"молодыми\"', '\"человек\" - \"людьми\"', '\",\" - \",\"', '\"присесть\" - \"присевшими\"', '\",\" - \",\"', '\"как\" - \"как\"', '\"лев\" - \"львы\"', '\"-\" - \"-\"', '\"страж\" - \"стражи\"', '\",\" - \",\"', '\"на\" - \"на\"', '\"корточки\" - \"корточки\"', '\"на\" - \"на\"', '\"опорный\" - \"опорные\"', '\"столб\" - \"столбы\"', '\"ворот\" - \"ворот\"', '\".\" - \".\"']\n"
     ]
    }
   ],
   "source": [
    "# Передаем текст новости в Spacy для разбора, получаем объект документа с результатами разбора.\n",
    "doc = nlp(text_news[0])\n",
    "# Перебираем предложения в тексте. \n",
    "# Но так как мне нужны первые два предложения, я превращаю итерируемый объект sents в список.\n",
    "for s in list(doc.sents)[:2]:\n",
    "    print(list([f'\"{t.lemma_}\" - \"{t.text}\"' for t in s]))"
   ]
  },
  {
   "cell_type": "markdown",
   "metadata": {},
   "source": [
    "Вместе со Spacy ставится библиотека dasplaycy, которая умеет отображать текст в виде деревьев зависимости. Посмотрим на первые два предложения."
   ]
  },
  {
   "cell_type": "code",
   "execution_count": 97,
   "metadata": {},
   "outputs": [
    {
     "data": {
      "text/html": [
       "<span class=\"tex2jax_ignore\"><svg xmlns=\"http://www.w3.org/2000/svg\" xmlns:xlink=\"http://www.w3.org/1999/xlink\" xml:lang=\"ru\" id=\"76d4b2330b554c009d07f152916dd01c-0\" class=\"displacy\" width=\"590\" height=\"227.0\" direction=\"ltr\" style=\"max-width: none; height: 227.0px; color: #000000; background: #ffffff; font-family: Arial; direction: ltr\"><text class=\"displacy-token\" fill=\"currentColor\" text-anchor=\"middle\" y=\"137.0\"><tspan class=\"displacy-word\" fill=\"currentColor\" x=\"50\">Пользователи</tspan><tspan class=\"displacy-tag\" dy=\"2em\" fill=\"currentColor\" x=\"50\">NOUN</tspan></text><text class=\"displacy-token\" fill=\"currentColor\" text-anchor=\"middle\" y=\"137.0\"><tspan class=\"displacy-word\" fill=\"currentColor\" x=\"140\">Reddit</tspan><tspan class=\"displacy-tag\" dy=\"2em\" fill=\"currentColor\" x=\"140\">PROPN</tspan></text><text class=\"displacy-token\" fill=\"currentColor\" text-anchor=\"middle\" y=\"137.0\"><tspan class=\"displacy-word\" fill=\"currentColor\" x=\"230\">выразили</tspan><tspan class=\"displacy-tag\" dy=\"2em\" fill=\"currentColor\" x=\"230\">VERB</tspan></text><text class=\"displacy-token\" fill=\"currentColor\" text-anchor=\"middle\" y=\"137.0\"><tspan class=\"displacy-word\" fill=\"currentColor\" x=\"320\">симпатию</tspan><tspan class=\"displacy-tag\" dy=\"2em\" fill=\"currentColor\" x=\"320\">NOUN</tspan></text><text class=\"displacy-token\" fill=\"currentColor\" text-anchor=\"middle\" y=\"137.0\"><tspan class=\"displacy-word\" fill=\"currentColor\" x=\"410\">российским</tspan><tspan class=\"displacy-tag\" dy=\"2em\" fill=\"currentColor\" x=\"410\">ADJ</tspan></text><text class=\"displacy-token\" fill=\"currentColor\" text-anchor=\"middle\" y=\"137.0\"><tspan class=\"displacy-word\" fill=\"currentColor\" x=\"500\">гопникам.</tspan><tspan class=\"displacy-tag\" dy=\"2em\" fill=\"currentColor\" x=\"500\">NOUN</tspan></text><g class=\"displacy-arrow\"><path class=\"displacy-arc\" id=\"arrow-76d4b2330b554c009d07f152916dd01c-0-0\" stroke-width=\"2px\" d=\"M70,92.0 C70,2.0 230.0,2.0 230.0,92.0\" fill=\"none\" stroke=\"currentColor\"/><text dy=\"1.25em\" style=\"font-size: 0.8em; letter-spacing: 1px\"><textPath xlink:href=\"#arrow-76d4b2330b554c009d07f152916dd01c-0-0\" class=\"displacy-label\" startOffset=\"50%\" side=\"left\" fill=\"currentColor\" text-anchor=\"middle\">nsubj</textPath></text><path class=\"displacy-arrowhead\" d=\"M70,94.0 L62,82.0 78,82.0\" fill=\"currentColor\"/></g><g class=\"displacy-arrow\"><path class=\"displacy-arc\" id=\"arrow-76d4b2330b554c009d07f152916dd01c-0-1\" stroke-width=\"2px\" d=\"M70,92.0 C70,47.0 135.0,47.0 135.0,92.0\" fill=\"none\" stroke=\"currentColor\"/><text dy=\"1.25em\" style=\"font-size: 0.8em; letter-spacing: 1px\"><textPath xlink:href=\"#arrow-76d4b2330b554c009d07f152916dd01c-0-1\" class=\"displacy-label\" startOffset=\"50%\" side=\"left\" fill=\"currentColor\" text-anchor=\"middle\">nmod</textPath></text><path class=\"displacy-arrowhead\" d=\"M135.0,94.0 L143.0,82.0 127.0,82.0\" fill=\"currentColor\"/></g><g class=\"displacy-arrow\"><path class=\"displacy-arc\" id=\"arrow-76d4b2330b554c009d07f152916dd01c-0-2\" stroke-width=\"2px\" d=\"M250,92.0 C250,47.0 315.0,47.0 315.0,92.0\" fill=\"none\" stroke=\"currentColor\"/><text dy=\"1.25em\" style=\"font-size: 0.8em; letter-spacing: 1px\"><textPath xlink:href=\"#arrow-76d4b2330b554c009d07f152916dd01c-0-2\" class=\"displacy-label\" startOffset=\"50%\" side=\"left\" fill=\"currentColor\" text-anchor=\"middle\">obj</textPath></text><path class=\"displacy-arrowhead\" d=\"M315.0,94.0 L323.0,82.0 307.0,82.0\" fill=\"currentColor\"/></g><g class=\"displacy-arrow\"><path class=\"displacy-arc\" id=\"arrow-76d4b2330b554c009d07f152916dd01c-0-3\" stroke-width=\"2px\" d=\"M430,92.0 C430,47.0 495.0,47.0 495.0,92.0\" fill=\"none\" stroke=\"currentColor\"/><text dy=\"1.25em\" style=\"font-size: 0.8em; letter-spacing: 1px\"><textPath xlink:href=\"#arrow-76d4b2330b554c009d07f152916dd01c-0-3\" class=\"displacy-label\" startOffset=\"50%\" side=\"left\" fill=\"currentColor\" text-anchor=\"middle\">amod</textPath></text><path class=\"displacy-arrowhead\" d=\"M430,94.0 L422,82.0 438,82.0\" fill=\"currentColor\"/></g><g class=\"displacy-arrow\"><path class=\"displacy-arc\" id=\"arrow-76d4b2330b554c009d07f152916dd01c-0-4\" stroke-width=\"2px\" d=\"M250,92.0 C250,2.0 500.0,2.0 500.0,92.0\" fill=\"none\" stroke=\"currentColor\"/><text dy=\"1.25em\" style=\"font-size: 0.8em; letter-spacing: 1px\"><textPath xlink:href=\"#arrow-76d4b2330b554c009d07f152916dd01c-0-4\" class=\"displacy-label\" startOffset=\"50%\" side=\"left\" fill=\"currentColor\" text-anchor=\"middle\">iobj</textPath></text><path class=\"displacy-arrowhead\" d=\"M500.0,94.0 L508.0,82.0 492.0,82.0\" fill=\"currentColor\"/></g></svg></span>"
      ],
      "text/plain": [
       "<IPython.core.display.HTML object>"
      ]
     },
     "metadata": {},
     "output_type": "display_data"
    },
    {
     "data": {
      "text/html": [
       "<span class=\"tex2jax_ignore\"><svg xmlns=\"http://www.w3.org/2000/svg\" xmlns:xlink=\"http://www.w3.org/1999/xlink\" xml:lang=\"ru\" id=\"5466df7e222244f08c69a6b631ad3c83-0\" class=\"displacy\" width=\"1580\" height=\"317.0\" direction=\"ltr\" style=\"max-width: none; height: 317.0px; color: #000000; background: #ffffff; font-family: Arial; direction: ltr\"><text class=\"displacy-token\" fill=\"currentColor\" text-anchor=\"middle\" y=\"227.0\"><tspan class=\"displacy-word\" fill=\"currentColor\" x=\"50\">Посетители</tspan><tspan class=\"displacy-tag\" dy=\"2em\" fill=\"currentColor\" x=\"50\">NOUN</tspan></text><text class=\"displacy-token\" fill=\"currentColor\" text-anchor=\"middle\" y=\"227.0\"><tspan class=\"displacy-word\" fill=\"currentColor\" x=\"140\">ресурса</tspan><tspan class=\"displacy-tag\" dy=\"2em\" fill=\"currentColor\" x=\"140\">NOUN</tspan></text><text class=\"displacy-token\" fill=\"currentColor\" text-anchor=\"middle\" y=\"227.0\"><tspan class=\"displacy-word\" fill=\"currentColor\" x=\"230\">оценили</tspan><tspan class=\"displacy-tag\" dy=\"2em\" fill=\"currentColor\" x=\"230\">VERB</tspan></text><text class=\"displacy-token\" fill=\"currentColor\" text-anchor=\"middle\" y=\"227.0\"><tspan class=\"displacy-word\" fill=\"currentColor\" x=\"320\">фотографию</tspan><tspan class=\"displacy-tag\" dy=\"2em\" fill=\"currentColor\" x=\"320\">NOUN</tspan></text><text class=\"displacy-token\" fill=\"currentColor\" text-anchor=\"middle\" y=\"227.0\"><tspan class=\"displacy-word\" fill=\"currentColor\" x=\"410\">с</tspan><tspan class=\"displacy-tag\" dy=\"2em\" fill=\"currentColor\" x=\"410\">ADP</tspan></text><text class=\"displacy-token\" fill=\"currentColor\" text-anchor=\"middle\" y=\"227.0\"><tspan class=\"displacy-word\" fill=\"currentColor\" x=\"500\">молодыми</tspan><tspan class=\"displacy-tag\" dy=\"2em\" fill=\"currentColor\" x=\"500\">ADJ</tspan></text><text class=\"displacy-token\" fill=\"currentColor\" text-anchor=\"middle\" y=\"227.0\"><tspan class=\"displacy-word\" fill=\"currentColor\" x=\"590\">людьми,</tspan><tspan class=\"displacy-tag\" dy=\"2em\" fill=\"currentColor\" x=\"590\">NOUN</tspan></text><text class=\"displacy-token\" fill=\"currentColor\" text-anchor=\"middle\" y=\"227.0\"><tspan class=\"displacy-word\" fill=\"currentColor\" x=\"680\">присевшими,</tspan><tspan class=\"displacy-tag\" dy=\"2em\" fill=\"currentColor\" x=\"680\">VERB</tspan></text><text class=\"displacy-token\" fill=\"currentColor\" text-anchor=\"middle\" y=\"227.0\"><tspan class=\"displacy-word\" fill=\"currentColor\" x=\"770\">как</tspan><tspan class=\"displacy-tag\" dy=\"2em\" fill=\"currentColor\" x=\"770\">SCONJ</tspan></text><text class=\"displacy-token\" fill=\"currentColor\" text-anchor=\"middle\" y=\"227.0\"><tspan class=\"displacy-word\" fill=\"currentColor\" x=\"860\">львы-</tspan><tspan class=\"displacy-tag\" dy=\"2em\" fill=\"currentColor\" x=\"860\">NOUN</tspan></text><text class=\"displacy-token\" fill=\"currentColor\" text-anchor=\"middle\" y=\"227.0\"><tspan class=\"displacy-word\" fill=\"currentColor\" x=\"950\">стражи,</tspan><tspan class=\"displacy-tag\" dy=\"2em\" fill=\"currentColor\" x=\"950\">NOUN</tspan></text><text class=\"displacy-token\" fill=\"currentColor\" text-anchor=\"middle\" y=\"227.0\"><tspan class=\"displacy-word\" fill=\"currentColor\" x=\"1040\">на</tspan><tspan class=\"displacy-tag\" dy=\"2em\" fill=\"currentColor\" x=\"1040\">ADP</tspan></text><text class=\"displacy-token\" fill=\"currentColor\" text-anchor=\"middle\" y=\"227.0\"><tspan class=\"displacy-word\" fill=\"currentColor\" x=\"1130\">корточки</tspan><tspan class=\"displacy-tag\" dy=\"2em\" fill=\"currentColor\" x=\"1130\">NOUN</tspan></text><text class=\"displacy-token\" fill=\"currentColor\" text-anchor=\"middle\" y=\"227.0\"><tspan class=\"displacy-word\" fill=\"currentColor\" x=\"1220\">на</tspan><tspan class=\"displacy-tag\" dy=\"2em\" fill=\"currentColor\" x=\"1220\">ADP</tspan></text><text class=\"displacy-token\" fill=\"currentColor\" text-anchor=\"middle\" y=\"227.0\"><tspan class=\"displacy-word\" fill=\"currentColor\" x=\"1310\">опорные</tspan><tspan class=\"displacy-tag\" dy=\"2em\" fill=\"currentColor\" x=\"1310\">ADJ</tspan></text><text class=\"displacy-token\" fill=\"currentColor\" text-anchor=\"middle\" y=\"227.0\"><tspan class=\"displacy-word\" fill=\"currentColor\" x=\"1400\">столбы</tspan><tspan class=\"displacy-tag\" dy=\"2em\" fill=\"currentColor\" x=\"1400\">NOUN</tspan></text><text class=\"displacy-token\" fill=\"currentColor\" text-anchor=\"middle\" y=\"227.0\"><tspan class=\"displacy-word\" fill=\"currentColor\" x=\"1490\">ворот.</tspan><tspan class=\"displacy-tag\" dy=\"2em\" fill=\"currentColor\" x=\"1490\">NOUN</tspan></text><g class=\"displacy-arrow\"><path class=\"displacy-arc\" id=\"arrow-5466df7e222244f08c69a6b631ad3c83-0-0\" stroke-width=\"2px\" d=\"M70,182.0 C70,92.0 220.0,92.0 220.0,182.0\" fill=\"none\" stroke=\"currentColor\"/><text dy=\"1.25em\" style=\"font-size: 0.8em; letter-spacing: 1px\"><textPath xlink:href=\"#arrow-5466df7e222244f08c69a6b631ad3c83-0-0\" class=\"displacy-label\" startOffset=\"50%\" side=\"left\" fill=\"currentColor\" text-anchor=\"middle\">nsubj</textPath></text><path class=\"displacy-arrowhead\" d=\"M70,184.0 L62,172.0 78,172.0\" fill=\"currentColor\"/></g><g class=\"displacy-arrow\"><path class=\"displacy-arc\" id=\"arrow-5466df7e222244f08c69a6b631ad3c83-0-1\" stroke-width=\"2px\" d=\"M70,182.0 C70,137.0 125.0,137.0 125.0,182.0\" fill=\"none\" stroke=\"currentColor\"/><text dy=\"1.25em\" style=\"font-size: 0.8em; letter-spacing: 1px\"><textPath xlink:href=\"#arrow-5466df7e222244f08c69a6b631ad3c83-0-1\" class=\"displacy-label\" startOffset=\"50%\" side=\"left\" fill=\"currentColor\" text-anchor=\"middle\">nmod</textPath></text><path class=\"displacy-arrowhead\" d=\"M125.0,184.0 L133.0,172.0 117.0,172.0\" fill=\"currentColor\"/></g><g class=\"displacy-arrow\"><path class=\"displacy-arc\" id=\"arrow-5466df7e222244f08c69a6b631ad3c83-0-2\" stroke-width=\"2px\" d=\"M250,182.0 C250,137.0 305.0,137.0 305.0,182.0\" fill=\"none\" stroke=\"currentColor\"/><text dy=\"1.25em\" style=\"font-size: 0.8em; letter-spacing: 1px\"><textPath xlink:href=\"#arrow-5466df7e222244f08c69a6b631ad3c83-0-2\" class=\"displacy-label\" startOffset=\"50%\" side=\"left\" fill=\"currentColor\" text-anchor=\"middle\">obj</textPath></text><path class=\"displacy-arrowhead\" d=\"M305.0,184.0 L313.0,172.0 297.0,172.0\" fill=\"currentColor\"/></g><g class=\"displacy-arrow\"><path class=\"displacy-arc\" id=\"arrow-5466df7e222244f08c69a6b631ad3c83-0-3\" stroke-width=\"2px\" d=\"M430,182.0 C430,92.0 580.0,92.0 580.0,182.0\" fill=\"none\" stroke=\"currentColor\"/><text dy=\"1.25em\" style=\"font-size: 0.8em; letter-spacing: 1px\"><textPath xlink:href=\"#arrow-5466df7e222244f08c69a6b631ad3c83-0-3\" class=\"displacy-label\" startOffset=\"50%\" side=\"left\" fill=\"currentColor\" text-anchor=\"middle\">case</textPath></text><path class=\"displacy-arrowhead\" d=\"M430,184.0 L422,172.0 438,172.0\" fill=\"currentColor\"/></g><g class=\"displacy-arrow\"><path class=\"displacy-arc\" id=\"arrow-5466df7e222244f08c69a6b631ad3c83-0-4\" stroke-width=\"2px\" d=\"M520,182.0 C520,137.0 575.0,137.0 575.0,182.0\" fill=\"none\" stroke=\"currentColor\"/><text dy=\"1.25em\" style=\"font-size: 0.8em; letter-spacing: 1px\"><textPath xlink:href=\"#arrow-5466df7e222244f08c69a6b631ad3c83-0-4\" class=\"displacy-label\" startOffset=\"50%\" side=\"left\" fill=\"currentColor\" text-anchor=\"middle\">amod</textPath></text><path class=\"displacy-arrowhead\" d=\"M520,184.0 L512,172.0 528,172.0\" fill=\"currentColor\"/></g><g class=\"displacy-arrow\"><path class=\"displacy-arc\" id=\"arrow-5466df7e222244f08c69a6b631ad3c83-0-5\" stroke-width=\"2px\" d=\"M340,182.0 C340,47.0 585.0,47.0 585.0,182.0\" fill=\"none\" stroke=\"currentColor\"/><text dy=\"1.25em\" style=\"font-size: 0.8em; letter-spacing: 1px\"><textPath xlink:href=\"#arrow-5466df7e222244f08c69a6b631ad3c83-0-5\" class=\"displacy-label\" startOffset=\"50%\" side=\"left\" fill=\"currentColor\" text-anchor=\"middle\">nmod</textPath></text><path class=\"displacy-arrowhead\" d=\"M585.0,184.0 L593.0,172.0 577.0,172.0\" fill=\"currentColor\"/></g><g class=\"displacy-arrow\"><path class=\"displacy-arc\" id=\"arrow-5466df7e222244f08c69a6b631ad3c83-0-6\" stroke-width=\"2px\" d=\"M610,182.0 C610,137.0 665.0,137.0 665.0,182.0\" fill=\"none\" stroke=\"currentColor\"/><text dy=\"1.25em\" style=\"font-size: 0.8em; letter-spacing: 1px\"><textPath xlink:href=\"#arrow-5466df7e222244f08c69a6b631ad3c83-0-6\" class=\"displacy-label\" startOffset=\"50%\" side=\"left\" fill=\"currentColor\" text-anchor=\"middle\">acl</textPath></text><path class=\"displacy-arrowhead\" d=\"M665.0,184.0 L673.0,172.0 657.0,172.0\" fill=\"currentColor\"/></g><g class=\"displacy-arrow\"><path class=\"displacy-arc\" id=\"arrow-5466df7e222244f08c69a6b631ad3c83-0-7\" stroke-width=\"2px\" d=\"M700,182.0 C700,137.0 755.0,137.0 755.0,182.0\" fill=\"none\" stroke=\"currentColor\"/><text dy=\"1.25em\" style=\"font-size: 0.8em; letter-spacing: 1px\"><textPath xlink:href=\"#arrow-5466df7e222244f08c69a6b631ad3c83-0-7\" class=\"displacy-label\" startOffset=\"50%\" side=\"left\" fill=\"currentColor\" text-anchor=\"middle\">case</textPath></text><path class=\"displacy-arrowhead\" d=\"M755.0,184.0 L763.0,172.0 747.0,172.0\" fill=\"currentColor\"/></g><g class=\"displacy-arrow\"><path class=\"displacy-arc\" id=\"arrow-5466df7e222244f08c69a6b631ad3c83-0-8\" stroke-width=\"2px\" d=\"M700,182.0 C700,92.0 850.0,92.0 850.0,182.0\" fill=\"none\" stroke=\"currentColor\"/><text dy=\"1.25em\" style=\"font-size: 0.8em; letter-spacing: 1px\"><textPath xlink:href=\"#arrow-5466df7e222244f08c69a6b631ad3c83-0-8\" class=\"displacy-label\" startOffset=\"50%\" side=\"left\" fill=\"currentColor\" text-anchor=\"middle\">obl</textPath></text><path class=\"displacy-arrowhead\" d=\"M850.0,184.0 L858.0,172.0 842.0,172.0\" fill=\"currentColor\"/></g><g class=\"displacy-arrow\"><path class=\"displacy-arc\" id=\"arrow-5466df7e222244f08c69a6b631ad3c83-0-9\" stroke-width=\"2px\" d=\"M700,182.0 C700,47.0 945.0,47.0 945.0,182.0\" fill=\"none\" stroke=\"currentColor\"/><text dy=\"1.25em\" style=\"font-size: 0.8em; letter-spacing: 1px\"><textPath xlink:href=\"#arrow-5466df7e222244f08c69a6b631ad3c83-0-9\" class=\"displacy-label\" startOffset=\"50%\" side=\"left\" fill=\"currentColor\" text-anchor=\"middle\">nsubj</textPath></text><path class=\"displacy-arrowhead\" d=\"M945.0,184.0 L953.0,172.0 937.0,172.0\" fill=\"currentColor\"/></g><g class=\"displacy-arrow\"><path class=\"displacy-arc\" id=\"arrow-5466df7e222244f08c69a6b631ad3c83-0-10\" stroke-width=\"2px\" d=\"M1060,182.0 C1060,137.0 1115.0,137.0 1115.0,182.0\" fill=\"none\" stroke=\"currentColor\"/><text dy=\"1.25em\" style=\"font-size: 0.8em; letter-spacing: 1px\"><textPath xlink:href=\"#arrow-5466df7e222244f08c69a6b631ad3c83-0-10\" class=\"displacy-label\" startOffset=\"50%\" side=\"left\" fill=\"currentColor\" text-anchor=\"middle\">case</textPath></text><path class=\"displacy-arrowhead\" d=\"M1060,184.0 L1052,172.0 1068,172.0\" fill=\"currentColor\"/></g><g class=\"displacy-arrow\"><path class=\"displacy-arc\" id=\"arrow-5466df7e222244f08c69a6b631ad3c83-0-11\" stroke-width=\"2px\" d=\"M250,182.0 C250,2.0 1130.0,2.0 1130.0,182.0\" fill=\"none\" stroke=\"currentColor\"/><text dy=\"1.25em\" style=\"font-size: 0.8em; letter-spacing: 1px\"><textPath xlink:href=\"#arrow-5466df7e222244f08c69a6b631ad3c83-0-11\" class=\"displacy-label\" startOffset=\"50%\" side=\"left\" fill=\"currentColor\" text-anchor=\"middle\">obl</textPath></text><path class=\"displacy-arrowhead\" d=\"M1130.0,184.0 L1138.0,172.0 1122.0,172.0\" fill=\"currentColor\"/></g><g class=\"displacy-arrow\"><path class=\"displacy-arc\" id=\"arrow-5466df7e222244f08c69a6b631ad3c83-0-12\" stroke-width=\"2px\" d=\"M1240,182.0 C1240,92.0 1390.0,92.0 1390.0,182.0\" fill=\"none\" stroke=\"currentColor\"/><text dy=\"1.25em\" style=\"font-size: 0.8em; letter-spacing: 1px\"><textPath xlink:href=\"#arrow-5466df7e222244f08c69a6b631ad3c83-0-12\" class=\"displacy-label\" startOffset=\"50%\" side=\"left\" fill=\"currentColor\" text-anchor=\"middle\">case</textPath></text><path class=\"displacy-arrowhead\" d=\"M1240,184.0 L1232,172.0 1248,172.0\" fill=\"currentColor\"/></g><g class=\"displacy-arrow\"><path class=\"displacy-arc\" id=\"arrow-5466df7e222244f08c69a6b631ad3c83-0-13\" stroke-width=\"2px\" d=\"M1330,182.0 C1330,137.0 1385.0,137.0 1385.0,182.0\" fill=\"none\" stroke=\"currentColor\"/><text dy=\"1.25em\" style=\"font-size: 0.8em; letter-spacing: 1px\"><textPath xlink:href=\"#arrow-5466df7e222244f08c69a6b631ad3c83-0-13\" class=\"displacy-label\" startOffset=\"50%\" side=\"left\" fill=\"currentColor\" text-anchor=\"middle\">amod</textPath></text><path class=\"displacy-arrowhead\" d=\"M1330,184.0 L1322,172.0 1338,172.0\" fill=\"currentColor\"/></g><g class=\"displacy-arrow\"><path class=\"displacy-arc\" id=\"arrow-5466df7e222244f08c69a6b631ad3c83-0-14\" stroke-width=\"2px\" d=\"M1150,182.0 C1150,47.0 1395.0,47.0 1395.0,182.0\" fill=\"none\" stroke=\"currentColor\"/><text dy=\"1.25em\" style=\"font-size: 0.8em; letter-spacing: 1px\"><textPath xlink:href=\"#arrow-5466df7e222244f08c69a6b631ad3c83-0-14\" class=\"displacy-label\" startOffset=\"50%\" side=\"left\" fill=\"currentColor\" text-anchor=\"middle\">nmod</textPath></text><path class=\"displacy-arrowhead\" d=\"M1395.0,184.0 L1403.0,172.0 1387.0,172.0\" fill=\"currentColor\"/></g><g class=\"displacy-arrow\"><path class=\"displacy-arc\" id=\"arrow-5466df7e222244f08c69a6b631ad3c83-0-15\" stroke-width=\"2px\" d=\"M1420,182.0 C1420,137.0 1475.0,137.0 1475.0,182.0\" fill=\"none\" stroke=\"currentColor\"/><text dy=\"1.25em\" style=\"font-size: 0.8em; letter-spacing: 1px\"><textPath xlink:href=\"#arrow-5466df7e222244f08c69a6b631ad3c83-0-15\" class=\"displacy-label\" startOffset=\"50%\" side=\"left\" fill=\"currentColor\" text-anchor=\"middle\">nmod</textPath></text><path class=\"displacy-arrowhead\" d=\"M1475.0,184.0 L1483.0,172.0 1467.0,172.0\" fill=\"currentColor\"/></g></svg></span>"
      ],
      "text/plain": [
       "<IPython.core.display.HTML object>"
      ]
     },
     "metadata": {},
     "output_type": "display_data"
    }
   ],
   "source": [
    "for s in list(doc.sents)[:2]:\n",
    "    displacy.render(s, style=\"dep\", minify=True, jupyter=True, options={\"distance\":90})"
   ]
  },
  {
   "cell_type": "markdown",
   "metadata": {},
   "source": [
    "Для предложения определено свойство `root`, которое является корневой вершиной предложения.  \n",
    "Помимо леммы и токена, каждая вершина хранит список потомков `children`, список родителей `ancestors`, вид зависимости (роль слова при родителе) `dep_`, часть речи `tag_`."
   ]
  },
  {
   "cell_type": "code",
   "execution_count": 98,
   "metadata": {},
   "outputs": [
    {
     "name": "stdout",
     "output_type": "stream",
     "text": [
      "выразили [Пользователи, симпатию, гопникам, .]\n",
      "пользователь Пользователи nsubj NOUN -> выразили\n"
     ]
    }
   ],
   "source": [
    "sent0 = list(doc.sents)[0]\n",
    "childs0 = list(sent0.root.children)\n",
    "print(sent0.root, childs0)\n",
    "print(childs0[0].lemma_, childs0[0].text, childs0[0].dep_, childs0[0].tag_, '->', list(childs0[0].ancestors)[0])"
   ]
  },
  {
   "cell_type": "markdown",
   "metadata": {},
   "source": [
    "Решим ту же задачу с поиском эмоционально окрашенных слов в новостях."
   ]
  },
  {
   "cell_type": "code",
   "execution_count": 99,
   "metadata": {},
   "outputs": [],
   "source": [
    "# Поиск эмоионально окрашенных потомков для SpaCy.\n",
    "def find_sentiments_spacy(node, senti_words, sentiments):\n",
    "    for child in node.children:\n",
    "        if child.lemma_ in senti_words.keys():\n",
    "            if node.lemma_ not in sentiments.keys():\n",
    "                sentiments[node.lemma_] = defaultdict(int)\n",
    "            sentiments[node.lemma_][senti_words[child.lemma_]] += 1\n"
   ]
  },
  {
   "cell_type": "code",
   "execution_count": 100,
   "metadata": {},
   "outputs": [
    {
     "data": {
      "text/plain": [
       "{'выразить': defaultdict(int, {'positive': 1, 'negative': 1}),\n",
       " '«молитесь': defaultdict(int, {'positive': 1}),\n",
       " 'покорить': defaultdict(int, {'negative': 1}),\n",
       " 'становиться': defaultdict(int, {'negative': 1}),\n",
       " 'продемонстрировать': defaultdict(int, {'positive': 1, 'negative': 1}),\n",
       " 'обрести': defaultdict(int, {'positive': 1})}"
      ]
     },
     "execution_count": 100,
     "metadata": {},
     "output_type": "execute_result"
    }
   ],
   "source": [
    "# Перебираем все прдложения первой новости и ищем эмоционально окрашенные слова.\n",
    "sentiments = {}\n",
    "for sent in doc.sents:\n",
    "    find_sentiments_spacy(sent.root, senti_words, sentiments)\n",
    "sentiments"
   ]
  },
  {
   "cell_type": "code",
   "execution_count": null,
   "metadata": {},
   "outputs": [
    {
     "name": "stderr",
     "output_type": "stream",
     "text": [
      " 92%|██████████████████████████████████████████████████████████████████████████████████████████████████████████████████████████████████████████████████████████████████████████████████████████▎                | 1567/1707 [02:53<00:13, 10.09it/s]"
     ]
    }
   ],
   "source": [
    "# Найдем все эмоционально окрашенные фразы во всех новостях.\n",
    "sentiments = {}\n",
    "for sent_text in tqdm(text_news):\n",
    "    doc = nlp(sent_text)\n",
    "    for sent in doc.sents:\n",
    "        find_sentiments_spacy(sent.root, senti_words, sentiments)\n"
   ]
  },
  {
   "cell_type": "markdown",
   "metadata": {},
   "source": [
    "Как вы можете видеть, SpaCy работает быстрее (так как я использовал модель с повышеной скоростью, а не с повышенной точностью), но результаты работы несколько отличаются. Это означает, что SpaCy возвращает деревья другой структуры."
   ]
  },
  {
   "cell_type": "code",
   "execution_count": 40,
   "metadata": {},
   "outputs": [
    {
     "data": {
      "text/plain": [
       "([('признать',\n",
       "   defaultdict(int, {'negative': 48, 'positive': 8, 'neutral': 2})),\n",
       "  ('стать',\n",
       "   defaultdict(int,\n",
       "               {'negative': 40,\n",
       "                'positive': 35,\n",
       "                'neutral': 17,\n",
       "                'positive/negative': 1})),\n",
       "  ('мочь',\n",
       "   defaultdict(int,\n",
       "               {'negative': 36,\n",
       "                'positive': 19,\n",
       "                'neutral': 11,\n",
       "                'positive/negative': 3,\n",
       "                'пострадать': 1})),\n",
       "  ('произойти',\n",
       "   defaultdict(int,\n",
       "               {'negative': 58,\n",
       "                'positive/negative': 2,\n",
       "                'neutral': 5,\n",
       "                'positive': 1}))],\n",
       " '\\n----\\n',\n",
       " [('принять', defaultdict(int, {'positive': 38, 'neutral': 4, 'negative': 5})),\n",
       "  ('обратить',\n",
       "   defaultdict(int, {'positive': 63, 'neutral': 1, 'negative': 2})),\n",
       "  ('стать',\n",
       "   defaultdict(int,\n",
       "               {'negative': 40,\n",
       "                'positive': 35,\n",
       "                'neutral': 17,\n",
       "                'positive/negative': 1}))])"
      ]
     },
     "execution_count": 40,
     "metadata": {},
     "output_type": "execute_result"
    }
   ],
   "source": [
    "[(senti, vals) for senti,vals in sentiments.items() if vals['negative']>30], '\\n----\\n',\\\n",
    "[(senti, vals) for senti,vals in sentiments.items() if vals['positive']>30]"
   ]
  },
  {
   "cell_type": "code",
   "execution_count": null,
   "metadata": {},
   "outputs": [],
   "source": []
  }
 ],
 "metadata": {
  "kernelspec": {
   "display_name": "Python 3 (ipykernel)",
   "language": "python",
   "name": "python3"
  },
  "language_info": {
   "codemirror_mode": {
    "name": "ipython",
    "version": 3
   },
   "file_extension": ".py",
   "mimetype": "text/x-python",
   "name": "python",
   "nbconvert_exporter": "python",
   "pygments_lexer": "ipython3",
   "version": "3.11.3"
  }
 },
 "nbformat": 4,
 "nbformat_minor": 4
}
