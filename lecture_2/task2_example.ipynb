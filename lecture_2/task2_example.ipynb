{
 "cells": [
  {
   "cell_type": "code",
   "execution_count": 9,
   "id": "38ef8308-3412-4630-99d8-df3306f09d39",
   "metadata": {},
   "outputs": [
    {
     "name": "stderr",
     "output_type": "stream",
     "text": [
      "[nltk_data] Downloading package stopwords to /Users/roman/nltk_data...\n",
      "[nltk_data]   Package stopwords is already up-to-date!\n"
     ]
    },
    {
     "name": "stdout",
     "output_type": "stream",
     "text": [
      "['влияние солнечный активность климат земля изучаться ученый', 'новый открытие область квантовый физик менять представление материя', 'биологический исследование показать связь генетика поведение', 'последний достижение робототехника открывать новый возможность медицина', 'астроном обнаружить новый экзопланета зона обитаемость', 'исследование область нейробиология помогать хороший понять работа мозг', 'нанотехнология находить широкий применение различный отрасль промышленность', 'генетический инженерия обещать революционный изменение сельский хозяйство', 'изучение микробиом человек открывать новый путь лечение болезнь', 'космический миссия продолжать приносить важный данные планета', 'современный исследование климатический изменение предупреждать опасность', 'разработка новый материал уникальный свойство идти полный ход', 'энергетика будущее : перспектива использование возобновлять источник энергия', 'исследование область экология помогать сохранить биоразнообразие', 'новый метод лечение рак разрабатываться основа иммунный клетка']\n"
     ]
    }
   ],
   "source": [
    "import re\n",
    "import nltk\n",
    "from natasha import Segmenter, MorphVocab, NewsEmbedding, NewsMorphTagger, Doc\n",
    "from pymorphy2 import MorphAnalyzer\n",
    "from sklearn.feature_extraction.text import CountVectorizer\n",
    "from sklearn.decomposition import PCA\n",
    "from sklearn.cluster import DBSCAN\n",
    "import pandas as pd\n",
    "import numpy as np\n",
    "import matplotlib.pyplot as plt\n",
    "\n",
    "# Загружаем стоп-слова\n",
    "nltk.download('stopwords')\n",
    "from nltk.corpus import stopwords\n",
    "stop_words = set(stopwords.words('russian'))\n",
    "stop_symb = set(['.', ' '])\n",
    "\n",
    "# Инициализация инструментов для нормализации текста\n",
    "segmenter = Segmenter()\n",
    "morph_vocab = MorphVocab()\n",
    "morph_analyzer = MorphAnalyzer()\n",
    "emb = NewsEmbedding()\n",
    "morph_tagger = NewsMorphTagger(emb)\n",
    "\n",
    "def normalize_text(text):\n",
    "    doc = Doc(text)\n",
    "    doc.segment(segmenter)\n",
    "    doc.tag_morph(morph_tagger)\n",
    "    \n",
    "    normalized_tokens = []\n",
    "    for token in doc.tokens:\n",
    "        token.lemmatize(morph_vocab)\n",
    "        if token.lemma not in stop_words and token.lemma not in stop_symb:\n",
    "            normalized_tokens.append(token.lemma)\n",
    "    return ' '.join(normalized_tokens)\n",
    "\n",
    "# Пример использования\n",
    "texts = [\n",
    "    \"Влияние солнечной активности на климат Земли изучается учеными.\",\n",
    "    \"Новые открытия в области квантовой физики меняют представление о материи.\",\n",
    "    \"Биологические исследования показали связь между генетикой и поведением.\",\n",
    "    \"Последние достижения в робототехнике открывают новые возможности для медицины.\",\n",
    "    \"Астрономы обнаружили новую экзопланету в зоне обитаемости.\",\n",
    "    \"Исследования в области нейробиологии помогают лучше понять работу мозга.\",\n",
    "    \"Нанотехнологии находят широкое применение в различных отраслях промышленности.\",\n",
    "    \"Генетическая инженерия обещает революционные изменения в сельском хозяйстве.\",\n",
    "    \"Изучение микробиома человека открывает новые пути для лечения болезней.\",\n",
    "    \"Космические миссии продолжают приносить важные данные о других планетах.\",\n",
    "    \"Современные исследования климатических изменений предупреждают об опасностях.\",\n",
    "    \"Разработка новых материалов с уникальными свойствами идет полным ходом.\",\n",
    "    \"Энергетика будущего: перспективы использования возобновляемых источников энергии.\",\n",
    "    \"Исследования в области экологии помогают сохранить биоразнообразие.\",\n",
    "    \"Новые методы лечения рака разрабатываются на основе иммунных клеток.\"\n",
    "]\n",
    "\n",
    "normalized_texts = [normalize_text(text) for text in texts]\n",
    "print(normalized_texts)\n"
   ]
  },
  {
   "cell_type": "code",
   "execution_count": 10,
   "id": "5c97c703-f27d-40e2-a900-a0ffe5c84441",
   "metadata": {},
   "outputs": [
    {
     "data": {
      "text/plain": [
       "array([[1, 0, 0, ..., 0, 0, 0],\n",
       "       [0, 0, 0, ..., 0, 0, 0],\n",
       "       [0, 0, 1, ..., 0, 0, 0],\n",
       "       ...,\n",
       "       [0, 0, 0, ..., 0, 1, 1],\n",
       "       [0, 0, 0, ..., 1, 0, 0],\n",
       "       [0, 0, 0, ..., 0, 0, 0]])"
      ]
     },
     "execution_count": 10,
     "metadata": {},
     "output_type": "execute_result"
    }
   ],
   "source": [
    "# Векторизация текста\n",
    "vectorizer = CountVectorizer()\n",
    "X = vectorizer.fit_transform(normalized_texts)\n",
    "X.toarray()"
   ]
  },
  {
   "cell_type": "code",
   "execution_count": 11,
   "id": "0bd6081f-f2ce-4c1a-bc3f-0d7818e58161",
   "metadata": {},
   "outputs": [],
   "source": [
    "# Сжатие векторов до 2 компонентов\n",
    "pca = PCA(n_components=2)\n",
    "X_pca = pca.fit_transform(X.toarray())\n"
   ]
  },
  {
   "cell_type": "code",
   "execution_count": 12,
   "id": "64762176-d7e8-4638-9d14-782664764b58",
   "metadata": {},
   "outputs": [],
   "source": [
    "# Кластеризация с помощью DBSCAN\n",
    "dbscan = DBSCAN(eps=0.5, min_samples=2)\n",
    "clusters = dbscan.fit_predict(X_pca)\n"
   ]
  },
  {
   "cell_type": "code",
   "execution_count": 13,
   "id": "3db40af1-1a41-45b2-85cb-9f2ac362e0a0",
   "metadata": {},
   "outputs": [
    {
     "data": {
      "image/png": "[encoded data removed]",
      "text/plain": [
       "<Figure size 720x504 with 2 Axes>"
      ]
     },
     "metadata": {
      "needs_background": "light"
     },
     "output_type": "display_data"
    },
    {
     "name": "stdout",
     "output_type": "stream",
     "text": [
      "Cluster 0:\n",
      "['Влияние солнечной активности на климат Земли изучается учеными.', 'Нанотехнологии находят широкое применение в различных отраслях промышленности.', 'Генетическая инженерия обещает революционные изменения в сельском хозяйстве.', 'Космические миссии продолжают приносить важные данные о других планетах.', 'Энергетика будущего: перспективы использования возобновляемых источников энергии.']\n",
      "Cluster 1:\n",
      "['Биологические исследования показали связь между генетикой и поведением.', 'Современные исследования климатических изменений предупреждают об опасностях.']\n",
      "Cluster 2:\n",
      "['Последние достижения в робототехнике открывают новые возможности для медицины.', 'Астрономы обнаружили новую экзопланету в зоне обитаемости.', 'Изучение микробиома человека открывает новые пути для лечения болезней.', 'Разработка новых материалов с уникальными свойствами идет полным ходом.', 'Новые методы лечения рака разрабатываются на основе иммунных клеток.']\n",
      "Cluster -1:\n",
      "['Новые открытия в области квантовой физики меняют представление о материи.', 'Исследования в области нейробиологии помогают лучше понять работу мозга.', 'Исследования в области экологии помогают сохранить биоразнообразие.']\n"
     ]
    }
   ],
   "source": [
    "# Визуализация результатов\n",
    "df = pd.DataFrame({'x': X_pca[:, 0], 'y': X_pca[:, 1], 'cluster': clusters})\n",
    "\n",
    "plt.figure(figsize=(10, 7))\n",
    "plt.scatter(df['x'], df['y'], c=df['cluster'], cmap='viridis', marker='o')\n",
    "plt.title('DBSCAN Clustering')\n",
    "plt.xlabel('PCA Component 1')\n",
    "plt.ylabel('PCA Component 2')\n",
    "plt.colorbar(label='Cluster')\n",
    "plt.show()\n",
    "\n",
    "# Выделение тем по кластерам\n",
    "for cluster in set(clusters):\n",
    "    print(f\"Cluster {cluster}:\")\n",
    "    cluster_texts = [texts[i] for i in range(len(clusters)) if clusters[i] == cluster]\n",
    "    print(cluster_texts)\n"
   ]
  },
  {
   "cell_type": "code",
   "execution_count": null,
   "id": "d36f9dd3-04fb-4992-abf3-ae7df104e4bb",
   "metadata": {},
   "outputs": [],
   "source": []
  }
 ],
 "metadata": {
  "kernelspec": {
   "display_name": "Python 3",
   "language": "python",
   "name": "python3"
  },
  "language_info": {
   "codemirror_mode": {
    "name": "ipython",
    "version": 3
   },
   "file_extension": ".py",
   "mimetype": "text/x-python",
   "name": "python",
   "nbconvert_exporter": "python",
   "pygments_lexer": "ipython3",
   "version": "3.9.1"
  }
 },
 "nbformat": 4,
 "nbformat_minor": 5
}
